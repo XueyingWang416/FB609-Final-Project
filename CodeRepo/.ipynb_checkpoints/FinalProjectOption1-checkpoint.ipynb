{
 "cells": [
  {
   "cell_type": "code",
   "execution_count": 1,
   "metadata": {},
   "outputs": [],
   "source": [
    "# Import required libraries.\n",
    "import numpy as np\n",
    "import math\n",
    "import pandas as pd\n",
    "pd.options.mode.chained_assignment = None  # default='warn'\n",
    "from datetime import datetime\n",
    "import yfinance as yf\n",
    "from IPython.core.display import display\n",
    "import seaborn as sn\n",
    "import matplotlib as mpl\n",
    "import matplotlib.pyplot as plt\n",
    "from pprint import pprint\n",
    "from sklearn import datasets, linear_model\n",
    "from sklearn.metrics import mean_squared_error, r2_score\n",
    "from numba import njit, prange # for parallel computing\n",
    "import time\n",
    "\n",
    "NUM_TRADING_DAYS = 252 # total trading days of a year"
   ]
  },
  {
   "cell_type": "markdown",
   "metadata": {},
   "source": [
    "## Load and Process the Low Correlation Stock Data\n",
    "\n",
    "Load the CSV data for low correlation stocks created in the data collection procedure. Add an additional\n",
    "column for basket prices, which is essentially the mean of previous column items in each row."
   ]
  },
  {
   "cell_type": "code",
   "execution_count": 2,
   "metadata": {},
   "outputs": [
    {
     "data": {
      "text/html": [
       "<div>\n",
       "<style scoped>\n",
       "    .dataframe tbody tr th:only-of-type {\n",
       "        vertical-align: middle;\n",
       "    }\n",
       "\n",
       "    .dataframe tbody tr th {\n",
       "        vertical-align: top;\n",
       "    }\n",
       "\n",
       "    .dataframe thead th {\n",
       "        text-align: right;\n",
       "    }\n",
       "</style>\n",
       "<table border=\"1\" class=\"dataframe\">\n",
       "  <thead>\n",
       "    <tr style=\"text-align: right;\">\n",
       "      <th></th>\n",
       "      <th>CVX</th>\n",
       "      <th>EA</th>\n",
       "      <th>EDU</th>\n",
       "      <th>TSLA</th>\n",
       "    </tr>\n",
       "    <tr>\n",
       "      <th>Date</th>\n",
       "      <th></th>\n",
       "      <th></th>\n",
       "      <th></th>\n",
       "      <th></th>\n",
       "    </tr>\n",
       "  </thead>\n",
       "  <tbody>\n",
       "    <tr>\n",
       "      <th>2018-12-31</th>\n",
       "      <td>101.839668</td>\n",
       "      <td>78.910004</td>\n",
       "      <td>54.810001</td>\n",
       "      <td>332.799988</td>\n",
       "    </tr>\n",
       "    <tr>\n",
       "      <th>2019-01-02</th>\n",
       "      <td>103.618286</td>\n",
       "      <td>80.370003</td>\n",
       "      <td>55.310001</td>\n",
       "      <td>310.119995</td>\n",
       "    </tr>\n",
       "    <tr>\n",
       "      <th>2019-01-03</th>\n",
       "      <td>101.633728</td>\n",
       "      <td>78.709999</td>\n",
       "      <td>53.950001</td>\n",
       "      <td>300.359985</td>\n",
       "    </tr>\n",
       "    <tr>\n",
       "      <th>2019-01-04</th>\n",
       "      <td>103.739975</td>\n",
       "      <td>84.419998</td>\n",
       "      <td>56.570000</td>\n",
       "      <td>317.690002</td>\n",
       "    </tr>\n",
       "    <tr>\n",
       "      <th>2019-01-07</th>\n",
       "      <td>105.087990</td>\n",
       "      <td>87.589996</td>\n",
       "      <td>58.619999</td>\n",
       "      <td>334.959991</td>\n",
       "    </tr>\n",
       "    <tr>\n",
       "      <th>...</th>\n",
       "      <td>...</td>\n",
       "      <td>...</td>\n",
       "      <td>...</td>\n",
       "      <td>...</td>\n",
       "    </tr>\n",
       "    <tr>\n",
       "      <th>2019-12-23</th>\n",
       "      <td>117.218971</td>\n",
       "      <td>107.790001</td>\n",
       "      <td>124.959999</td>\n",
       "      <td>419.220001</td>\n",
       "    </tr>\n",
       "    <tr>\n",
       "      <th>2019-12-24</th>\n",
       "      <td>117.228706</td>\n",
       "      <td>108.550003</td>\n",
       "      <td>124.699997</td>\n",
       "      <td>425.250000</td>\n",
       "    </tr>\n",
       "    <tr>\n",
       "      <th>2019-12-26</th>\n",
       "      <td>117.481995</td>\n",
       "      <td>108.510002</td>\n",
       "      <td>125.000000</td>\n",
       "      <td>430.940002</td>\n",
       "    </tr>\n",
       "    <tr>\n",
       "      <th>2019-12-27</th>\n",
       "      <td>117.189751</td>\n",
       "      <td>108.430000</td>\n",
       "      <td>124.000000</td>\n",
       "      <td>430.380005</td>\n",
       "    </tr>\n",
       "    <tr>\n",
       "      <th>2019-12-30</th>\n",
       "      <td>116.751373</td>\n",
       "      <td>106.930000</td>\n",
       "      <td>123.000000</td>\n",
       "      <td>414.700012</td>\n",
       "    </tr>\n",
       "  </tbody>\n",
       "</table>\n",
       "<p>252 rows × 4 columns</p>\n",
       "</div>"
      ],
      "text/plain": [
       "                   CVX          EA         EDU        TSLA\n",
       "Date                                                      \n",
       "2018-12-31  101.839668   78.910004   54.810001  332.799988\n",
       "2019-01-02  103.618286   80.370003   55.310001  310.119995\n",
       "2019-01-03  101.633728   78.709999   53.950001  300.359985\n",
       "2019-01-04  103.739975   84.419998   56.570000  317.690002\n",
       "2019-01-07  105.087990   87.589996   58.619999  334.959991\n",
       "...                ...         ...         ...         ...\n",
       "2019-12-23  117.218971  107.790001  124.959999  419.220001\n",
       "2019-12-24  117.228706  108.550003  124.699997  425.250000\n",
       "2019-12-26  117.481995  108.510002  125.000000  430.940002\n",
       "2019-12-27  117.189751  108.430000  124.000000  430.380005\n",
       "2019-12-30  116.751373  106.930000  123.000000  414.700012\n",
       "\n",
       "[252 rows x 4 columns]"
      ]
     },
     "metadata": {},
     "output_type": "display_data"
    }
   ],
   "source": [
    "low_corr_stocks = ['CVX' , 'EA', 'EDU', 'TSLA']\n",
    "low_corr_stocks_df = pd.read_csv('../Results/low_correlation_stocks.csv')\n",
    "low_corr_stocks_df.columns = ['Date', 'CVX' , 'EA', 'EDU', 'TSLA']\n",
    "low_corr_stocks_df.set_index('Date', inplace=True)\n",
    "display(low_corr_stocks_df)"
   ]
  },
  {
   "cell_type": "markdown",
   "metadata": {
    "pycharm": {
     "name": "#%% md\n"
    }
   },
   "source": [
    "### Compute Percentage Returns"
   ]
  },
  {
   "cell_type": "code",
   "execution_count": 3,
   "metadata": {
    "pycharm": {
     "name": "#%%\n"
    }
   },
   "outputs": [
    {
     "data": {
      "text/html": [
       "<div>\n",
       "<style scoped>\n",
       "    .dataframe tbody tr th:only-of-type {\n",
       "        vertical-align: middle;\n",
       "    }\n",
       "\n",
       "    .dataframe tbody tr th {\n",
       "        vertical-align: top;\n",
       "    }\n",
       "\n",
       "    .dataframe thead th {\n",
       "        text-align: right;\n",
       "    }\n",
       "</style>\n",
       "<table border=\"1\" class=\"dataframe\">\n",
       "  <thead>\n",
       "    <tr style=\"text-align: right;\">\n",
       "      <th></th>\n",
       "      <th>CVX</th>\n",
       "      <th>EA</th>\n",
       "      <th>EDU</th>\n",
       "      <th>TSLA</th>\n",
       "      <th>Basket</th>\n",
       "    </tr>\n",
       "    <tr>\n",
       "      <th>Date</th>\n",
       "      <th></th>\n",
       "      <th></th>\n",
       "      <th></th>\n",
       "      <th></th>\n",
       "      <th></th>\n",
       "    </tr>\n",
       "  </thead>\n",
       "  <tbody>\n",
       "    <tr>\n",
       "      <th>2018-12-31</th>\n",
       "      <td>NaN</td>\n",
       "      <td>NaN</td>\n",
       "      <td>NaN</td>\n",
       "      <td>NaN</td>\n",
       "      <td>NaN</td>\n",
       "    </tr>\n",
       "    <tr>\n",
       "      <th>2019-01-02</th>\n",
       "      <td>0.017465</td>\n",
       "      <td>0.018502</td>\n",
       "      <td>0.009122</td>\n",
       "      <td>-0.068149</td>\n",
       "      <td>-0.005765</td>\n",
       "    </tr>\n",
       "    <tr>\n",
       "      <th>2019-01-03</th>\n",
       "      <td>-0.019153</td>\n",
       "      <td>-0.020655</td>\n",
       "      <td>-0.024589</td>\n",
       "      <td>-0.031472</td>\n",
       "      <td>-0.023967</td>\n",
       "    </tr>\n",
       "    <tr>\n",
       "      <th>2019-01-04</th>\n",
       "      <td>0.020724</td>\n",
       "      <td>0.072545</td>\n",
       "      <td>0.048563</td>\n",
       "      <td>0.057697</td>\n",
       "      <td>0.049882</td>\n",
       "    </tr>\n",
       "    <tr>\n",
       "      <th>2019-01-07</th>\n",
       "      <td>0.012994</td>\n",
       "      <td>0.037550</td>\n",
       "      <td>0.036238</td>\n",
       "      <td>0.054361</td>\n",
       "      <td>0.035286</td>\n",
       "    </tr>\n",
       "    <tr>\n",
       "      <th>...</th>\n",
       "      <td>...</td>\n",
       "      <td>...</td>\n",
       "      <td>...</td>\n",
       "      <td>...</td>\n",
       "      <td>...</td>\n",
       "    </tr>\n",
       "    <tr>\n",
       "      <th>2019-12-23</th>\n",
       "      <td>0.005431</td>\n",
       "      <td>-0.001482</td>\n",
       "      <td>0.009859</td>\n",
       "      <td>0.033605</td>\n",
       "      <td>0.011853</td>\n",
       "    </tr>\n",
       "    <tr>\n",
       "      <th>2019-12-24</th>\n",
       "      <td>0.000083</td>\n",
       "      <td>0.007051</td>\n",
       "      <td>-0.002081</td>\n",
       "      <td>0.014384</td>\n",
       "      <td>0.004859</td>\n",
       "    </tr>\n",
       "    <tr>\n",
       "      <th>2019-12-26</th>\n",
       "      <td>0.002161</td>\n",
       "      <td>-0.000369</td>\n",
       "      <td>0.002406</td>\n",
       "      <td>0.013380</td>\n",
       "      <td>0.004395</td>\n",
       "    </tr>\n",
       "    <tr>\n",
       "      <th>2019-12-27</th>\n",
       "      <td>-0.002488</td>\n",
       "      <td>-0.000737</td>\n",
       "      <td>-0.008000</td>\n",
       "      <td>-0.001299</td>\n",
       "      <td>-0.003131</td>\n",
       "    </tr>\n",
       "    <tr>\n",
       "      <th>2019-12-30</th>\n",
       "      <td>-0.003741</td>\n",
       "      <td>-0.013834</td>\n",
       "      <td>-0.008065</td>\n",
       "      <td>-0.036433</td>\n",
       "      <td>-0.015518</td>\n",
       "    </tr>\n",
       "  </tbody>\n",
       "</table>\n",
       "<p>252 rows × 5 columns</p>\n",
       "</div>"
      ],
      "text/plain": [
       "                 CVX        EA       EDU      TSLA    Basket\n",
       "Date                                                        \n",
       "2018-12-31       NaN       NaN       NaN       NaN       NaN\n",
       "2019-01-02  0.017465  0.018502  0.009122 -0.068149 -0.005765\n",
       "2019-01-03 -0.019153 -0.020655 -0.024589 -0.031472 -0.023967\n",
       "2019-01-04  0.020724  0.072545  0.048563  0.057697  0.049882\n",
       "2019-01-07  0.012994  0.037550  0.036238  0.054361  0.035286\n",
       "...              ...       ...       ...       ...       ...\n",
       "2019-12-23  0.005431 -0.001482  0.009859  0.033605  0.011853\n",
       "2019-12-24  0.000083  0.007051 -0.002081  0.014384  0.004859\n",
       "2019-12-26  0.002161 -0.000369  0.002406  0.013380  0.004395\n",
       "2019-12-27 -0.002488 -0.000737 -0.008000 -0.001299 -0.003131\n",
       "2019-12-30 -0.003741 -0.013834 -0.008065 -0.036433 -0.015518\n",
       "\n",
       "[252 rows x 5 columns]"
      ]
     },
     "metadata": {},
     "output_type": "display_data"
    }
   ],
   "source": [
    "pct_returns_df = low_corr_stocks_df.pct_change(1).copy()\n",
    "pct_returns_df['Basket'] = pct_returns_df.mean(numeric_only=True, axis=1)\n",
    "W = np.array([0.25, 0.25, 0.25, 0.25])\n",
    "\n",
    "for i in range (1, pct_returns_df.shape[0]):\n",
    "    pct_returns_df.iloc[i]['Basket'] = np.dot(np.array(pct_returns_df.iloc[i].values[:4]), W)\n",
    "# Compute for the last row.\n",
    "display(pct_returns_df)"
   ]
  },
  {
   "cell_type": "markdown",
   "metadata": {
    "pycharm": {
     "name": "#%% md\n"
    }
   },
   "source": [
    "### Compute volatility of the percentage returns for Basket Column"
   ]
  },
  {
   "cell_type": "code",
   "execution_count": 4,
   "metadata": {
    "pycharm": {
     "name": "#%%\n"
    }
   },
   "outputs": [
    {
     "name": "stdout",
     "output_type": "stream",
     "text": [
      "Average annualized percentage return of the Basket Option: 43.6543%\n",
      "Volatility of the percentage returns of the Basket Option: 0.014003438829129525\n",
      "Annualized volatility of the percentage returns of the Basket Option: 0.22229769984949344\n"
     ]
    }
   ],
   "source": [
    "pct_returns_avg = pct_returns_df.mean()\n",
    "basket_avg = pct_returns_avg['Basket'] * NUM_TRADING_DAYS\n",
    "print(f'Average annualized percentage return of the Basket Option: {basket_avg * 100:.4f}%')\n",
    "\n",
    "pct_returns_vol = pct_returns_df.std()\n",
    "basket_vol = pct_returns_vol['Basket']\n",
    "print(f'Volatility of the percentage returns of the Basket Option: {basket_vol}')\n",
    "\n",
    "basket_sigma = basket_vol * np.sqrt(NUM_TRADING_DAYS)\n",
    "print(f'Annualized volatility of the percentage returns of the Basket Option: {basket_sigma}')"
   ]
  },
  {
   "cell_type": "markdown",
   "metadata": {
    "pycharm": {
     "name": "#%% md\n"
    }
   },
   "source": [
    "## Compute Correlations"
   ]
  },
  {
   "cell_type": "code",
   "execution_count": 5,
   "metadata": {
    "pycharm": {
     "name": "#%%\n"
    }
   },
   "outputs": [
    {
     "data": {
      "image/png": "[encoded data removed]",
      "text/plain": [
       "<Figure size 1152x576 with 2 Axes>"
      ]
     },
     "metadata": {
      "needs_background": "light"
     },
     "output_type": "display_data"
    }
   ],
   "source": [
    "correlation_matrix = low_corr_stocks_df.pct_change(1).corr()\n",
    "plt.figure(figsize = (16,8))\n",
    "sn.heatmap(correlation_matrix, annot=True, fmt='g', linewidths=.5)\n",
    "plt.show()"
   ]
  },
  {
   "cell_type": "markdown",
   "metadata": {},
   "source": [
    "It can be easily seen that the selected stocks are loosely correlated."
   ]
  },
  {
   "cell_type": "markdown",
   "metadata": {},
   "source": [
    "## Perform Cholesky Decomposition"
   ]
  },
  {
   "cell_type": "markdown",
   "metadata": {},
   "source": [
    "References:\n",
    "1. https://www.quantstart.com/articles/Cholesky-Decomposition-in-Python-and-NumPy/\n",
    "2. https://en.wikipedia.org/wiki/Cholesky_decomposition\n",
    "\n",
    "Cholesky Decomposition comes handy when we need to generate correlated random numbers during Monte Carlo Simulation, the basic assumption of Cholesky Decomposition is that the (correlation) matrix is *Hermitian* and *Positive-Definite*, to compute Cholesky Decomposition of our correlation matrix, here we will use the **Cholesky-Banachiewicz Algorithm**. Specifically, for a Hermitian and Positive-Definite matrix **A**,\n",
    "\n",
    "$$\\mathbf{A} = \\mathbf{L}\\mathbf{U} = \\mathbf{L}\\mathbf{L^T} = \\begin{bmatrix}&L_{11}, &0, &0\\\\&L_{21}, &L_{22}, &0\\\\&L_{31}, &L_{32}, &L_{33}\\end{bmatrix}\\begin{bmatrix}&L_{11}, &L_{21}, &L_{31}\\\\&0, &L_{22}, &L_{32}\\\\&0, &0, &L_{33}\\end{bmatrix}$$\n",
    "\n",
    "Then we have, by solving the LU-Decomposition of the matrix, the lower-triangular matrix $\\mathbf{L}$ is,\n",
    "$$\\mathbf{L} = \\begin{bmatrix}\n",
    "&\\sqrt{A_{11}}, &0,                              &0\\\\\n",
    "&A_{21}/L_{11}, &\\sqrt{A_{22} - L_{21}^2},       &0\\\\\n",
    "&A_{31}/L_{11}, &(A_{32} - L_{31}L_{21})/L_{22}, &\\sqrt{A_{33} - L_{31}^2 - L_{21}^2}\n",
    "\\end{bmatrix}$$\n",
    "\n",
    "Hence, we have, for the diagonal elements of $\\mathbf{L}$,\n",
    "$$L_{j, j} = \\pm \\sqrt{A_{j,j} - \\Sigma_{k=1}^{j-1}L_{j,k}^2}$$\n",
    "Which is always positive if $\\mathbf{A}$ is real and positive-definite, and the non-diagonal elements,\n",
    "$$L_{i,j} = \\frac{1}{L_{j,j}}\\left(A_{i,j} - \\Sigma_{k=1}^{j-1}L_{i,k}L_{j,k}\\right), i > j$$"
   ]
  },
  {
   "cell_type": "code",
   "execution_count": 6,
   "metadata": {},
   "outputs": [],
   "source": [
    "def cholesky_decomp(A):\n",
    "    \"\"\"Performs a Cholesky decomposition of A, which must \n",
    "    be a symmetric and positive definite matrix. The function\n",
    "    returns the lower variant triangular matrix, L.\"\"\"\n",
    "    \n",
    "    n = len(A)\n",
    "\n",
    "    # Initialize a zero matrix for L.\n",
    "    L = np.zeros(A.shape)\n",
    "\n",
    "    # Perform the Cholesky decomposition\n",
    "    for j in range(n):\n",
    "        for i in range(j, n):\n",
    "            symmetric_sum = sum(L[i][k] * L[j][k] for k in range(i))\n",
    "            \n",
    "            if (j == i): # Diagonal elements\n",
    "                L[j][j] = np.sqrt(A[j][j] - symmetric_sum)\n",
    "            else:\n",
    "                # Non-diagonal elements\n",
    "                L[i][j] = (1.0 / L[j][j] * (A[i][j] - symmetric_sum))\n",
    "    return L"
   ]
  },
  {
   "cell_type": "code",
   "execution_count": 7,
   "metadata": {},
   "outputs": [
    {
     "data": {
      "image/png": "[encoded data removed]",
      "text/plain": [
       "<Figure size 1152x576 with 2 Axes>"
      ]
     },
     "metadata": {
      "needs_background": "light"
     },
     "output_type": "display_data"
    }
   ],
   "source": [
    "L = cholesky_decomp(correlation_matrix.values)\n",
    "plt.figure(figsize = (16,8))\n",
    "sn.heatmap(L, annot=True, fmt='g', linewidths=.5, xticklabels=low_corr_stocks, yticklabels=low_corr_stocks)\n",
    "plt.show()"
   ]
  },
  {
   "cell_type": "code",
   "execution_count": 8,
   "metadata": {},
   "outputs": [
    {
     "name": "stdout",
     "output_type": "stream",
     "text": [
      "2020-08-06\n"
     ]
    }
   ],
   "source": [
    "# Spot prices on August 4th, 2020\n",
    "current_date = datetime.now().strftime('%Y-%m-%d')\n",
    "print(current_date)\n",
    "# Update with current date correspondingly.\n",
    "spot_df = pd.DataFrame(yf.download('CVX EA EDU TSLA', start='2020-08-04', end='2020-08-05', progress=False)['Close'].iloc[-1])"
   ]
  },
  {
   "cell_type": "code",
   "execution_count": 9,
   "metadata": {},
   "outputs": [
    {
     "data": {
      "text/html": [
       "<div>\n",
       "<style scoped>\n",
       "    .dataframe tbody tr th:only-of-type {\n",
       "        vertical-align: middle;\n",
       "    }\n",
       "\n",
       "    .dataframe tbody tr th {\n",
       "        vertical-align: top;\n",
       "    }\n",
       "\n",
       "    .dataframe thead th {\n",
       "        text-align: right;\n",
       "    }\n",
       "</style>\n",
       "<table border=\"1\" class=\"dataframe\">\n",
       "  <thead>\n",
       "    <tr style=\"text-align: right;\">\n",
       "      <th></th>\n",
       "      <th>2020-08-04</th>\n",
       "    </tr>\n",
       "  </thead>\n",
       "  <tbody>\n",
       "    <tr>\n",
       "      <th>CVX</th>\n",
       "      <td>86.489998</td>\n",
       "    </tr>\n",
       "    <tr>\n",
       "      <th>EA</th>\n",
       "      <td>146.320007</td>\n",
       "    </tr>\n",
       "    <tr>\n",
       "      <th>EDU</th>\n",
       "      <td>144.940002</td>\n",
       "    </tr>\n",
       "    <tr>\n",
       "      <th>TSLA</th>\n",
       "      <td>1487.000000</td>\n",
       "    </tr>\n",
       "  </tbody>\n",
       "</table>\n",
       "</div>"
      ],
      "text/plain": [
       "       2020-08-04\n",
       "CVX     86.489998\n",
       "EA     146.320007\n",
       "EDU    144.940002\n",
       "TSLA  1487.000000"
      ]
     },
     "metadata": {},
     "output_type": "display_data"
    }
   ],
   "source": [
    "display(spot_df)"
   ]
  },
  {
   "cell_type": "markdown",
   "metadata": {},
   "source": [
    "## Perform Monte-Carlo Simulation"
   ]
  },
  {
   "cell_type": "markdown",
   "metadata": {},
   "source": [
    "### Simulation Parameters"
   ]
  },
  {
   "cell_type": "code",
   "execution_count": 10,
   "metadata": {},
   "outputs": [
    {
     "name": "stdout",
     "output_type": "stream",
     "text": [
      "The spot price of the basket options: 466.1875\n",
      "The strike price of the basket options: 466.1875\n",
      "[0.18439498 0.37201552 0.35473105 0.4941291 ]\n"
     ]
    }
   ],
   "source": [
    "spot = spot_df.mean().values[0]\n",
    "print(f'The spot price of the basket options: {spot:.4f}')\n",
    "strike = spot # in basket option, it is valid to assume that the strike price is equal to the spot price\n",
    "print(f'The strike price of the basket options: {strike:.4f}')\n",
    "alpha = 0.026\n",
    "r = 0.026\n",
    "T = 1\n",
    "num_simulations = 10**7\n",
    "spot_prices = np.array([spot_df.iloc[i].values[0] for i in range(len(low_corr_stocks))])\n",
    "sigmas = low_corr_stocks_df.pct_change(1).std().values * np.sqrt(NUM_TRADING_DAYS)\n",
    "print(sigmas)\n",
    "num_stocks = len(low_corr_stocks)"
   ]
  },
  {
   "cell_type": "markdown",
   "metadata": {},
   "source": [
    "### Generate correlated random numbers"
   ]
  },
  {
   "cell_type": "code",
   "execution_count": 11,
   "metadata": {},
   "outputs": [],
   "source": [
    "uncor_random_nums = np.random.randn(num_simulations, len(low_corr_stocks))\n",
    "cor_random_nums = np.dot(uncor_random_nums, L.T) # generate correlated random numbers using Cholesky Decomposition"
   ]
  },
  {
   "cell_type": "code",
   "execution_count": 12,
   "metadata": {
    "pycharm": {
     "name": "#%%\n"
    }
   },
   "outputs": [
    {
     "name": "stdout",
     "output_type": "stream",
     "text": [
      "--- 1.0308499336242676 seconds ---\n"
     ]
    }
   ],
   "source": [
    "st = np.zeros(num_simulations) # stock prices\n",
    "ct = np.zeros(num_simulations) # call prices\n",
    "pt = np.zeros(num_simulations) # put prices\n",
    "st_ind = np.zeros((num_simulations, num_stocks)) # individual stock prices\n",
    "\n",
    "@njit(parallel=True, fastmath=True)\n",
    "def simulation(num_simulations, st, ct, pt, st_ind):\n",
    "    for i in prange(num_simulations):\n",
    "\n",
    "        # Compute current spot stock price.\n",
    "        stock_prices = spot_prices * np.exp((0.026 - 0.5 * sigmas ** 2) * T + cor_random_nums[i] * sigmas * np.sqrt(T))\n",
    "        st_ind[i,:] = stock_prices\n",
    "        st_basket = np.dot(stock_prices, W)\n",
    "        st[i] = st_basket\n",
    "\n",
    "        # Compute call price.\n",
    "        ct[i] = max(st_basket - strike, 0)\n",
    "\n",
    "        # Compute put price.\n",
    "        pt[i] = max(strike - st_basket, 0)\n",
    "\n",
    "start_time = time.time()\n",
    "simulation(num_simulations, st, ct, pt, st_ind)\n",
    "print(\"--- %s seconds ---\" % (time.time() - start_time))"
   ]
  },
  {
   "cell_type": "code",
   "execution_count": 13,
   "metadata": {},
   "outputs": [
    {
     "data": {
      "text/plain": [
       "<matplotlib.collections.PathCollection at 0x7fdfaba83eb8>"
      ]
     },
     "execution_count": 13,
     "metadata": {},
     "output_type": "execute_result"
    },
    {
     "data": {
      "image/png": "[encoded data removed]",
      "text/plain": [
       "<Figure size 432x288 with 1 Axes>"
      ]
     },
     "metadata": {
      "needs_background": "light"
     },
     "output_type": "display_data"
    }
   ],
   "source": [
    "# Generate scatter plot for Call Options.\n",
    "plt.scatter(st, ct, color='orange')"
   ]
  },
  {
   "cell_type": "code",
   "execution_count": 14,
   "metadata": {},
   "outputs": [
    {
     "data": {
      "text/plain": [
       "<matplotlib.collections.PathCollection at 0x7fdfaba47278>"
      ]
     },
     "execution_count": 14,
     "metadata": {},
     "output_type": "execute_result"
    },
    {
     "data": {
      "image/png": "[encoded data removed]",
      "text/plain": [
       "<Figure size 432x288 with 1 Axes>"
      ]
     },
     "metadata": {
      "needs_background": "light"
     },
     "output_type": "display_data"
    }
   ],
   "source": [
    "# Generate scatter plot for Put Options.\n",
    "plt.scatter(st, pt, color='cornflowerblue')"
   ]
  },
  {
   "cell_type": "markdown",
   "metadata": {},
   "source": [
    "### Call Option Simulation Statistics"
   ]
  },
  {
   "cell_type": "code",
   "execution_count": 15,
   "metadata": {},
   "outputs": [
    {
     "name": "stdout",
     "output_type": "stream",
     "text": [
      "Average call option pricing for low correlation stocks: 82.0048\n",
      "Call option C0 for low correlation stocks: 79.9001\n"
     ]
    }
   ],
   "source": [
    "call_lowcorr_avg = np.mean(ct)\n",
    "print(f'Average call option pricing for low correlation stocks: {call_lowcorr_avg:.4f}')\n",
    "call_lowcorr_C0 = call_lowcorr_avg * np.exp(- r * T)\n",
    "print(f'Call option C0 for low correlation stocks: {call_lowcorr_C0:.4f}')"
   ]
  },
  {
   "cell_type": "markdown",
   "metadata": {},
   "source": [
    "## Perform Linear Regression on Call Option"
   ]
  },
  {
   "cell_type": "code",
   "execution_count": 16,
   "metadata": {},
   "outputs": [
    {
     "name": "stdout",
     "output_type": "stream",
     "text": [
      "Model Parameters:\n",
      "Intercept: -220.23721132961327\n",
      "Slope: [0.00515687 0.09833986 0.08241148 0.18007595]\n",
      "C0: 79.9679\n"
     ]
    }
   ],
   "source": [
    "# Create linear regression object.\n",
    "lr_model = linear_model.LinearRegression()\n",
    "\n",
    "x = np.array(st_ind)\n",
    "y = np.array(ct)\n",
    "\n",
    "# Training for call options.\n",
    "lr_model.fit(x, y)\n",
    "\n",
    "# # Make fitting predictions.\n",
    "# call_pred = lr_model.predict(x)\n",
    "# print(len(st))\n",
    "\n",
    "# plt.scatter(st, ct,  color='orange')\n",
    "# # plt.plot(st, call_pred, linestyle=':')\n",
    "\n",
    "print('Model Parameters:')\n",
    "print('Intercept:', lr_model.intercept_)\n",
    "print('Slope:', lr_model.coef_)\n",
    "C0_linear_model = (lr_model.intercept_ * np.exp(- 0.026 * T) + np.dot(lr_model.coef_, spot_df.values))[0]\n",
    "print(f'C0: {C0_linear_model:.4f}')"
   ]
  },
  {
   "cell_type": "markdown",
   "metadata": {},
   "source": [
    "### Generate Trendline"
   ]
  },
  {
   "cell_type": "code",
   "execution_count": 17,
   "metadata": {},
   "outputs": [
    {
     "data": {
      "text/plain": [
       "[<matplotlib.lines.Line2D at 0x7fdfab865630>]"
      ]
     },
     "execution_count": 17,
     "metadata": {},
     "output_type": "execute_result"
    },
    {
     "data": {
      "image/png": "[encoded data removed]",
      "text/plain": [
       "<Figure size 432x288 with 1 Axes>"
      ]
     },
     "metadata": {
      "needs_background": "light"
     },
     "output_type": "display_data"
    }
   ],
   "source": [
    "# Training for call options.\n",
    "lr_model.fit(np.array(st).reshape((-1,1)), ct)\n",
    "\n",
    "# Make fitting predictions.\n",
    "call_pred = lr_model.predict(np.array(st).reshape((-1,1)))\n",
    "\n",
    "plt.scatter(st, ct,  color='orange')\n",
    "plt.plot(st, call_pred, linestyle=':')"
   ]
  },
  {
   "cell_type": "markdown",
   "metadata": {},
   "source": [
    "## Put Option Statistics"
   ]
  },
  {
   "cell_type": "code",
   "execution_count": 18,
   "metadata": {},
   "outputs": [
    {
     "name": "stdout",
     "output_type": "stream",
     "text": [
      "Average put option pricing for low correlation stocks: 69.8231\n",
      "Put option C0 for low correlation stocks: 68.0311\n"
     ]
    }
   ],
   "source": [
    "put_lowcorr_avg = np.mean(pt)\n",
    "print(f'Average put option pricing for low correlation stocks: {put_lowcorr_avg:.4f}')\n",
    "put_lowcorr_C0 = put_lowcorr_avg * np.exp(- r * T)\n",
    "print(f'Put option C0 for low correlation stocks: {put_lowcorr_C0:.4f}')"
   ]
  },
  {
   "cell_type": "markdown",
   "metadata": {},
   "source": [
    "## Perform Linear Regression on Call Option"
   ]
  },
  {
   "cell_type": "code",
   "execution_count": 19,
   "metadata": {},
   "outputs": [
    {
     "name": "stdout",
     "output_type": "stream",
     "text": [
      "Model Parameters:\n",
      "Intercept: 245.95029057773343\n",
      "Slope: [-0.24484313 -0.15166014 -0.16758852 -0.06992405]\n",
      "P0: 68.0033\n"
     ]
    }
   ],
   "source": [
    "# Create linear regression object.\n",
    "lr_model = linear_model.LinearRegression()\n",
    "\n",
    "x = np.array(st_ind)\n",
    "y = np.array(pt)\n",
    "\n",
    "# Training for call options.\n",
    "lr_model.fit(x, y)\n",
    "\n",
    "# # Make fitting predictions.\n",
    "# put_pred = lr_model.predict(x)\n",
    "# plt.scatter(st, pt,  color='cornflowerblue')\n",
    "# plt.plot(st, put_pred, linestyle=':')\n",
    "\n",
    "print('Model Parameters:')\n",
    "print('Intercept:', lr_model.intercept_)\n",
    "print('Slope:', lr_model.coef_)\n",
    "P0_linear_model = (lr_model.intercept_ * np.exp(- 0.026 * T) + np.dot(lr_model.coef_, spot_df.values))[0]\n",
    "print(f'P0: {P0_linear_model:.4f}')"
   ]
  },
  {
   "cell_type": "markdown",
   "metadata": {},
   "source": [
    "### Generate Trendline"
   ]
  },
  {
   "cell_type": "code",
   "execution_count": 20,
   "metadata": {},
   "outputs": [
    {
     "data": {
      "text/plain": [
       "[<matplotlib.lines.Line2D at 0x7fdfab849940>]"
      ]
     },
     "execution_count": 20,
     "metadata": {},
     "output_type": "execute_result"
    },
    {
     "data": {
      "image/png": "[encoded data removed]",
      "text/plain": [
       "<Figure size 432x288 with 1 Axes>"
      ]
     },
     "metadata": {
      "needs_background": "light"
     },
     "output_type": "display_data"
    }
   ],
   "source": [
    "# Training for call options.\n",
    "lr_model.fit(np.array(st).reshape((-1,1)), pt)\n",
    "\n",
    "# Make fitting predictions.\n",
    "put_pred = lr_model.predict(np.array(st).reshape((-1,1)))\n",
    "\n",
    "plt.scatter(st, pt,  color='cornflowerblue')\n",
    "plt.plot(st, put_pred, linestyle=':')"
   ]
  },
  {
   "cell_type": "markdown",
   "metadata": {},
   "source": [
    "## Sensitivity Analysis\n",
    "\n",
    "### Call VS Strike"
   ]
  },
  {
   "cell_type": "code",
   "execution_count": 21,
   "metadata": {},
   "outputs": [],
   "source": [
    "call_strike = 300\n",
    "num_simulations = 1000\n",
    "\n",
    "call_strikes = np.zeros(20)\n",
    "C0_call = np.zeros(20)\n",
    "\n",
    "@njit(parallel=True, fastmath=True)\n",
    "def simulation_strike(num_simulations, st, ct, pt, st_ind, strike):\n",
    "        for i in prange(num_simulations):\n",
    "\n",
    "            # Compute current spot stock price.\n",
    "            stock_prices = spot_prices * np.exp((0.026 - 0.5 * sigmas ** 2) * T + cor_random_nums[i] * sigmas * np.sqrt(T))\n",
    "            st_ind[i,:] = stock_prices\n",
    "            st_basket = np.dot(stock_prices, W)\n",
    "            st[i] = st_basket\n",
    "\n",
    "            # Compute call price.\n",
    "            ct[i] = max(st_basket - strike, 0)\n",
    "            \n",
    "            # Compute put price.\n",
    "            pt[i] = max(strike - st_basket, 0)\n",
    "\n",
    "for i in range(20):\n",
    "    st = np.zeros(num_simulations) # stock prices\n",
    "    ct = np.zeros(num_simulations) # call prices\n",
    "    pt = np.zeros(num_simulations) # put prices\n",
    "    st_ind = np.zeros((num_simulations, num_stocks)) # individual stock prices\n",
    "    \n",
    "    simulation_strike(num_simulations, st, ct, pt, st_ind, call_strike)\n",
    "    \n",
    "    # Create linear regression object.\n",
    "    lr_model = linear_model.LinearRegression()\n",
    "\n",
    "    x = np.array(st_ind)\n",
    "    y = np.array(ct)\n",
    "\n",
    "    # Training for call options.\n",
    "    lr_model.fit(x, y)\n",
    "    C0_linear_model = (lr_model.intercept_ * np.exp(- 0.026 * T) + np.dot(lr_model.coef_, spot_df.values))[0]\n",
    "    \n",
    "    C0_call[i] = C0_linear_model\n",
    "    call_strikes[i] = call_strike\n",
    "    \n",
    "    call_strike += 20"
   ]
  },
  {
   "cell_type": "code",
   "execution_count": 22,
   "metadata": {},
   "outputs": [
    {
     "data": {
      "text/plain": [
       "<matplotlib.collections.PathCollection at 0x7fdfab6b4d30>"
      ]
     },
     "execution_count": 22,
     "metadata": {},
     "output_type": "execute_result"
    },
    {
     "data": {
      "image/png": "[encoded data removed]",
      "text/plain": [
       "<Figure size 432x288 with 1 Axes>"
      ]
     },
     "metadata": {
      "needs_background": "light"
     },
     "output_type": "display_data"
    }
   ],
   "source": [
    "plt.scatter(call_strikes, C0_call)"
   ]
  },
  {
   "cell_type": "code",
   "execution_count": 23,
   "metadata": {},
   "outputs": [],
   "source": [
    "call_vol = 0.0\n",
    "num_simulations = 1000\n",
    "\n",
    "call_vols = np.zeros(20)\n",
    "C0_call = np.zeros(20)\n",
    "\n",
    "@njit(parallel=True, fastmath=True)\n",
    "def simulation_vol(num_simulations, st, ct, pt, st_ind, vol):\n",
    "        for i in prange(num_simulations):\n",
    "\n",
    "            # Compute current spot stock price.\n",
    "            stock_prices = spot_prices * np.exp((0.026 - 0.5 * (sigmas + vol) ** 2) * T + cor_random_nums[i] * (sigmas + vol) * np.sqrt(T))\n",
    "            st_ind[i,:] = stock_prices\n",
    "            st_basket = np.dot(stock_prices, W)\n",
    "            st[i] = st_basket\n",
    "\n",
    "            # Compute call price.\n",
    "            ct[i] = max(st_basket - strike, 0)\n",
    "            \n",
    "            # Compute put price.\n",
    "            pt[i] = max(strike - st_basket, 0)\n",
    "            \n",
    "for i in range(20):\n",
    "    st = np.zeros(num_simulations) # stock prices\n",
    "    ct = np.zeros(num_simulations) # call prices\n",
    "    pt = np.zeros(num_simulations) # put prices\n",
    "    st_ind = np.zeros((num_simulations, num_stocks)) # individual stock prices\n",
    "    \n",
    "    simulation_vol(num_simulations, st, ct, pt, st_ind, call_vol)\n",
    "    \n",
    "    # Create linear regression object.\n",
    "    lr_model = linear_model.LinearRegression()\n",
    "\n",
    "    x = np.array(st_ind)\n",
    "    y = np.array(ct)\n",
    "\n",
    "    # Training for call options.\n",
    "    lr_model.fit(x, y)\n",
    "    C0_linear_model = (lr_model.intercept_ * np.exp(- 0.026 * T) + np.dot(lr_model.coef_, spot_df.values))[0]\n",
    "    \n",
    "    C0_call[i] = C0_linear_model\n",
    "    call_vols[i] = call_vol\n",
    "    \n",
    "    call_vol += 0.2"
   ]
  },
  {
   "cell_type": "code",
   "execution_count": 24,
   "metadata": {},
   "outputs": [
    {
     "data": {
      "text/plain": [
       "<matplotlib.collections.PathCollection at 0x7fdea8400b70>"
      ]
     },
     "execution_count": 24,
     "metadata": {},
     "output_type": "execute_result"
    },
    {
     "data": {
      "image/png": "[encoded data removed]",
      "text/plain": [
       "<Figure size 432x288 with 1 Axes>"
      ]
     },
     "metadata": {
      "needs_background": "light"
     },
     "output_type": "display_data"
    }
   ],
   "source": [
    "plt.scatter(call_vols, C0_call)"
   ]
  },
  {
   "cell_type": "code",
   "execution_count": null,
   "metadata": {},
   "outputs": [],
   "source": []
  }
 ],
 "metadata": {
  "kernelspec": {
   "display_name": "Python 3",
   "language": "python",
   "name": "python3"
  },
  "language_info": {
   "codemirror_mode": {
    "name": "ipython",
    "version": 3
   },
   "file_extension": ".py",
   "mimetype": "text/x-python",
   "name": "python",
   "nbconvert_exporter": "python",
   "pygments_lexer": "ipython3",
   "version": "3.6.10"
  }
 },
 "nbformat": 4,
 "nbformat_minor": 4
}

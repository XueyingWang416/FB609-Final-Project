{
 "cells": [
  {
   "cell_type": "code",
   "execution_count": 7,
   "metadata": {},
   "outputs": [],
   "source": [
    "# Import required libraries.\n",
    "import numpy as np # for numerical computing\n",
    "import math # for basic arithmatic computations\n",
    "import pandas as pd # for manipulating CSV files and DataFrame\n",
    "pd.options.mode.chained_assignment = None  # default='warn'\n",
    "from datetime import datetime # for datetime manipulations\n",
    "import yfinance as yf # for data acquisition from Yahoo Finance\n",
    "import seaborn as sn # for complex data visualization\n",
    "import matplotlib as mpl # for simple data plotting\n",
    "import matplotlib.pyplot as plt\n",
    "from pprint import pprint # pretty print\n",
    "from sklearn import linear_model # for linear regression\n",
    "from numba import njit, prange # for parallel computing\n",
    "import time # run time measure\n",
    "\n",
    "NUM_TRADING_DAYS = 252 # macro definition: total trading days of a year"
   ]
  },
  {
   "cell_type": "markdown",
   "metadata": {},
   "source": [
    "## Load and Process the High Correlation Stock Data\n",
    "\n",
    "Load the CSV data for high correlation stocks created in the data collection procedure. Add an additional\n",
    "column for basket prices, which is essentially the mean of previous column items in each row."
   ]
  },
  {
   "cell_type": "code",
   "execution_count": 8,
   "metadata": {},
   "outputs": [
    {
     "data": {
      "text/html": [
       "<div>\n",
       "<style scoped>\n",
       "    .dataframe tbody tr th:only-of-type {\n",
       "        vertical-align: middle;\n",
       "    }\n",
       "\n",
       "    .dataframe tbody tr th {\n",
       "        vertical-align: top;\n",
       "    }\n",
       "\n",
       "    .dataframe thead th {\n",
       "        text-align: right;\n",
       "    }\n",
       "</style>\n",
       "<table border=\"1\" class=\"dataframe\">\n",
       "  <thead>\n",
       "    <tr style=\"text-align: right;\">\n",
       "      <th></th>\n",
       "      <th>CVX</th>\n",
       "      <th>MPC</th>\n",
       "      <th>PSX</th>\n",
       "      <th>XOM</th>\n",
       "    </tr>\n",
       "    <tr>\n",
       "      <th>Date</th>\n",
       "      <th></th>\n",
       "      <th></th>\n",
       "      <th></th>\n",
       "      <th></th>\n",
       "    </tr>\n",
       "  </thead>\n",
       "  <tbody>\n",
       "    <tr>\n",
       "      <th>2018-12-31</th>\n",
       "      <td>101.839668</td>\n",
       "      <td>55.314468</td>\n",
       "      <td>81.296181</td>\n",
       "      <td>62.932121</td>\n",
       "    </tr>\n",
       "    <tr>\n",
       "      <th>2019-01-02</th>\n",
       "      <td>103.618286</td>\n",
       "      <td>55.905022</td>\n",
       "      <td>83.155182</td>\n",
       "      <td>64.316460</td>\n",
       "    </tr>\n",
       "    <tr>\n",
       "      <th>2019-01-03</th>\n",
       "      <td>101.633728</td>\n",
       "      <td>55.089500</td>\n",
       "      <td>82.003922</td>\n",
       "      <td>63.328960</td>\n",
       "    </tr>\n",
       "    <tr>\n",
       "      <th>2019-01-04</th>\n",
       "      <td>103.739975</td>\n",
       "      <td>57.789143</td>\n",
       "      <td>85.721931</td>\n",
       "      <td>65.663887</td>\n",
       "    </tr>\n",
       "    <tr>\n",
       "      <th>2019-01-07</th>\n",
       "      <td>105.087990</td>\n",
       "      <td>58.360939</td>\n",
       "      <td>86.316437</td>\n",
       "      <td>66.005356</td>\n",
       "    </tr>\n",
       "    <tr>\n",
       "      <th>...</th>\n",
       "      <td>...</td>\n",
       "      <td>...</td>\n",
       "      <td>...</td>\n",
       "      <td>...</td>\n",
       "    </tr>\n",
       "    <tr>\n",
       "      <th>2019-12-23</th>\n",
       "      <td>117.218971</td>\n",
       "      <td>59.060181</td>\n",
       "      <td>110.148331</td>\n",
       "      <td>67.977135</td>\n",
       "    </tr>\n",
       "    <tr>\n",
       "      <th>2019-12-24</th>\n",
       "      <td>117.228706</td>\n",
       "      <td>59.362007</td>\n",
       "      <td>110.666473</td>\n",
       "      <td>67.716011</td>\n",
       "    </tr>\n",
       "    <tr>\n",
       "      <th>2019-12-26</th>\n",
       "      <td>117.481995</td>\n",
       "      <td>58.875191</td>\n",
       "      <td>109.551987</td>\n",
       "      <td>67.822395</td>\n",
       "    </tr>\n",
       "    <tr>\n",
       "      <th>2019-12-27</th>\n",
       "      <td>117.189751</td>\n",
       "      <td>58.787567</td>\n",
       "      <td>108.124664</td>\n",
       "      <td>67.590294</td>\n",
       "    </tr>\n",
       "    <tr>\n",
       "      <th>2019-12-30</th>\n",
       "      <td>116.751373</td>\n",
       "      <td>58.096291</td>\n",
       "      <td>107.899818</td>\n",
       "      <td>67.193794</td>\n",
       "    </tr>\n",
       "  </tbody>\n",
       "</table>\n",
       "<p>252 rows × 4 columns</p>\n",
       "</div>"
      ],
      "text/plain": [
       "                   CVX        MPC         PSX        XOM\n",
       "Date                                                    \n",
       "2018-12-31  101.839668  55.314468   81.296181  62.932121\n",
       "2019-01-02  103.618286  55.905022   83.155182  64.316460\n",
       "2019-01-03  101.633728  55.089500   82.003922  63.328960\n",
       "2019-01-04  103.739975  57.789143   85.721931  65.663887\n",
       "2019-01-07  105.087990  58.360939   86.316437  66.005356\n",
       "...                ...        ...         ...        ...\n",
       "2019-12-23  117.218971  59.060181  110.148331  67.977135\n",
       "2019-12-24  117.228706  59.362007  110.666473  67.716011\n",
       "2019-12-26  117.481995  58.875191  109.551987  67.822395\n",
       "2019-12-27  117.189751  58.787567  108.124664  67.590294\n",
       "2019-12-30  116.751373  58.096291  107.899818  67.193794\n",
       "\n",
       "[252 rows x 4 columns]"
      ]
     },
     "metadata": {},
     "output_type": "display_data"
    }
   ],
   "source": [
    "high_corr_stocks = ['CVX' , 'MPC', 'PSX', 'XOM']\n",
    "high_corr_stocks_df = pd.read_csv('../Results/high_correlation_stocks.csv')\n",
    "high_corr_stocks_df.columns = ['Date', 'CVX' , 'MPC', 'PSX', 'XOM']\n",
    "high_corr_stocks_df.set_index('Date', inplace=True)\n",
    "display(high_corr_stocks_df)"
   ]
  },
  {
   "cell_type": "markdown",
   "metadata": {
    "pycharm": {
     "name": "#%% md\n"
    }
   },
   "source": [
    "### Compute Percentage Returns"
   ]
  },
  {
   "cell_type": "code",
   "execution_count": 9,
   "metadata": {
    "pycharm": {
     "name": "#%%\n"
    }
   },
   "outputs": [
    {
     "data": {
      "text/html": [
       "<div>\n",
       "<style scoped>\n",
       "    .dataframe tbody tr th:only-of-type {\n",
       "        vertical-align: middle;\n",
       "    }\n",
       "\n",
       "    .dataframe tbody tr th {\n",
       "        vertical-align: top;\n",
       "    }\n",
       "\n",
       "    .dataframe thead th {\n",
       "        text-align: right;\n",
       "    }\n",
       "</style>\n",
       "<table border=\"1\" class=\"dataframe\">\n",
       "  <thead>\n",
       "    <tr style=\"text-align: right;\">\n",
       "      <th></th>\n",
       "      <th>CVX</th>\n",
       "      <th>MPC</th>\n",
       "      <th>PSX</th>\n",
       "      <th>XOM</th>\n",
       "      <th>Basket</th>\n",
       "    </tr>\n",
       "    <tr>\n",
       "      <th>Date</th>\n",
       "      <th></th>\n",
       "      <th></th>\n",
       "      <th></th>\n",
       "      <th></th>\n",
       "      <th></th>\n",
       "    </tr>\n",
       "  </thead>\n",
       "  <tbody>\n",
       "    <tr>\n",
       "      <th>2018-12-31</th>\n",
       "      <td>NaN</td>\n",
       "      <td>NaN</td>\n",
       "      <td>NaN</td>\n",
       "      <td>NaN</td>\n",
       "      <td>NaN</td>\n",
       "    </tr>\n",
       "    <tr>\n",
       "      <th>2019-01-02</th>\n",
       "      <td>0.017465</td>\n",
       "      <td>0.010676</td>\n",
       "      <td>0.022867</td>\n",
       "      <td>0.021997</td>\n",
       "      <td>0.018251</td>\n",
       "    </tr>\n",
       "    <tr>\n",
       "      <th>2019-01-03</th>\n",
       "      <td>-0.019153</td>\n",
       "      <td>-0.014588</td>\n",
       "      <td>-0.013845</td>\n",
       "      <td>-0.015354</td>\n",
       "      <td>-0.015735</td>\n",
       "    </tr>\n",
       "    <tr>\n",
       "      <th>2019-01-04</th>\n",
       "      <td>0.020724</td>\n",
       "      <td>0.049005</td>\n",
       "      <td>0.045339</td>\n",
       "      <td>0.036870</td>\n",
       "      <td>0.037984</td>\n",
       "    </tr>\n",
       "    <tr>\n",
       "      <th>2019-01-07</th>\n",
       "      <td>0.012994</td>\n",
       "      <td>0.009895</td>\n",
       "      <td>0.006935</td>\n",
       "      <td>0.005200</td>\n",
       "      <td>0.008756</td>\n",
       "    </tr>\n",
       "    <tr>\n",
       "      <th>...</th>\n",
       "      <td>...</td>\n",
       "      <td>...</td>\n",
       "      <td>...</td>\n",
       "      <td>...</td>\n",
       "      <td>...</td>\n",
       "    </tr>\n",
       "    <tr>\n",
       "      <th>2019-12-23</th>\n",
       "      <td>0.005431</td>\n",
       "      <td>-0.015420</td>\n",
       "      <td>-0.005999</td>\n",
       "      <td>0.005004</td>\n",
       "      <td>-0.002746</td>\n",
       "    </tr>\n",
       "    <tr>\n",
       "      <th>2019-12-24</th>\n",
       "      <td>0.000083</td>\n",
       "      <td>0.005110</td>\n",
       "      <td>0.004704</td>\n",
       "      <td>-0.003841</td>\n",
       "      <td>0.001514</td>\n",
       "    </tr>\n",
       "    <tr>\n",
       "      <th>2019-12-26</th>\n",
       "      <td>0.002161</td>\n",
       "      <td>-0.008201</td>\n",
       "      <td>-0.010071</td>\n",
       "      <td>0.001571</td>\n",
       "      <td>-0.003635</td>\n",
       "    </tr>\n",
       "    <tr>\n",
       "      <th>2019-12-27</th>\n",
       "      <td>-0.002488</td>\n",
       "      <td>-0.001488</td>\n",
       "      <td>-0.013029</td>\n",
       "      <td>-0.003422</td>\n",
       "      <td>-0.005107</td>\n",
       "    </tr>\n",
       "    <tr>\n",
       "      <th>2019-12-30</th>\n",
       "      <td>-0.003741</td>\n",
       "      <td>-0.011759</td>\n",
       "      <td>-0.002080</td>\n",
       "      <td>-0.005866</td>\n",
       "      <td>-0.005861</td>\n",
       "    </tr>\n",
       "  </tbody>\n",
       "</table>\n",
       "<p>252 rows × 5 columns</p>\n",
       "</div>"
      ],
      "text/plain": [
       "                 CVX       MPC       PSX       XOM    Basket\n",
       "Date                                                        \n",
       "2018-12-31       NaN       NaN       NaN       NaN       NaN\n",
       "2019-01-02  0.017465  0.010676  0.022867  0.021997  0.018251\n",
       "2019-01-03 -0.019153 -0.014588 -0.013845 -0.015354 -0.015735\n",
       "2019-01-04  0.020724  0.049005  0.045339  0.036870  0.037984\n",
       "2019-01-07  0.012994  0.009895  0.006935  0.005200  0.008756\n",
       "...              ...       ...       ...       ...       ...\n",
       "2019-12-23  0.005431 -0.015420 -0.005999  0.005004 -0.002746\n",
       "2019-12-24  0.000083  0.005110  0.004704 -0.003841  0.001514\n",
       "2019-12-26  0.002161 -0.008201 -0.010071  0.001571 -0.003635\n",
       "2019-12-27 -0.002488 -0.001488 -0.013029 -0.003422 -0.005107\n",
       "2019-12-30 -0.003741 -0.011759 -0.002080 -0.005866 -0.005861\n",
       "\n",
       "[252 rows x 5 columns]"
      ]
     },
     "metadata": {},
     "output_type": "display_data"
    }
   ],
   "source": [
    "pct_returns_df = high_corr_stocks_df.pct_change(1).copy()\n",
    "pct_returns_df['Basket'] = pct_returns_df.mean(numeric_only=True, axis=1)\n",
    "W = np.array([0.25, 0.25, 0.25, 0.25]) # weight vector\n",
    "\n",
    "for i in range (1, pct_returns_df.shape[0]):\n",
    "    pct_returns_df.iloc[i]['Basket'] = np.dot(np.array(pct_returns_df.iloc[i].values[:4]), W)\n",
    "# Compute for the last row.\n",
    "display(pct_returns_df)"
   ]
  },
  {
   "cell_type": "markdown",
   "metadata": {
    "pycharm": {
     "name": "#%% md\n"
    }
   },
   "source": [
    "### Compute volatility of the percentage returns for Basket Column"
   ]
  },
  {
   "cell_type": "code",
   "execution_count": 10,
   "metadata": {
    "pycharm": {
     "name": "#%%\n"
    }
   },
   "outputs": [
    {
     "name": "stdout",
     "output_type": "stream",
     "text": [
      "Average annualized percentage return of the Basket Option: 16.1128%\n",
      "Volatility of the percentage returns of the Basket Option: 0.011869354211124384\n",
      "Annualized volatility of the percentage returns of the Basket Option: 0.18842015679343416\n"
     ]
    }
   ],
   "source": [
    "pct_returns_avg = pct_returns_df.mean()\n",
    "basket_avg = pct_returns_avg['Basket'] * NUM_TRADING_DAYS\n",
    "print(f'Average annualized percentage return of the Basket Option: {basket_avg * 100:.4f}%')\n",
    "\n",
    "pct_returns_vol = pct_returns_df.std()\n",
    "basket_vol = pct_returns_vol['Basket']\n",
    "print(f'Volatility of the percentage returns of the Basket Option: {basket_vol}')\n",
    "\n",
    "basket_sigma = basket_vol * np.sqrt(NUM_TRADING_DAYS)\n",
    "print(f'Annualized volatility of the percentage returns of the Basket Option: {basket_sigma}')"
   ]
  },
  {
   "cell_type": "markdown",
   "metadata": {
    "pycharm": {
     "name": "#%% md\n"
    }
   },
   "source": [
    "## Compute Correlations"
   ]
  },
  {
   "cell_type": "code",
   "execution_count": 11,
   "metadata": {
    "pycharm": {
     "name": "#%%\n"
    }
   },
   "outputs": [
    {
     "data": {
      "image/png": "[encoded data removed]",
      "text/plain": [
       "<Figure size 1152x576 with 2 Axes>"
      ]
     },
     "metadata": {
      "needs_background": "light"
     },
     "output_type": "display_data"
    }
   ],
   "source": [
    "correlation_matrix = high_corr_stocks_df.pct_change(1).corr()\n",
    "plt.figure(figsize = (16,8))\n",
    "sn.heatmap(correlation_matrix, annot=True, fmt='g', linewidths=.5)\n",
    "plt.show()"
   ]
  },
  {
   "cell_type": "markdown",
   "metadata": {},
   "source": [
    "It can be easily seen that the selected stocks are highly correlated."
   ]
  },
  {
   "cell_type": "markdown",
   "metadata": {},
   "source": [
    "## Perform Cholesky Decomposition"
   ]
  },
  {
   "cell_type": "markdown",
   "metadata": {},
   "source": [
    "References:\n",
    "1. https://www.quantstart.com/articles/Cholesky-Decomposition-in-Python-and-NumPy/\n",
    "2. https://en.wikipedia.org/wiki/Cholesky_decomposition\n",
    "\n",
    "Cholesky Decomposition comes handy when we need to generate correlated random numbers during Monte Carlo Simulation, the basic assumption of Cholesky Decomposition is that the (correlation) matrix is *Hermitian* and *Positive-Definite*, to compute Cholesky Decomposition of our correlation matrix, here we will use the **Cholesky-Banachiewicz Algorithm**. Specifically, for a Hermitian and Positive-Definite matrix **A**,\n",
    "\n",
    "$$\\mathbf{A} = \\mathbf{L}\\mathbf{U} = \\mathbf{L}\\mathbf{L^T} = \\begin{bmatrix}&L_{11}, &0, &0\\\\&L_{21}, &L_{22}, &0\\\\&L_{31}, &L_{32}, &L_{33}\\end{bmatrix}\\begin{bmatrix}&L_{11}, &L_{21}, &L_{31}\\\\&0, &L_{22}, &L_{32}\\\\&0, &0, &L_{33}\\end{bmatrix}$$\n",
    "\n",
    "Then we have, by solving the LU-Decomposition of the matrix, the lower-triangular matrix $\\mathbf{L}$ is,\n",
    "$$\\mathbf{L} = \\begin{bmatrix}\n",
    "&\\sqrt{A_{11}}, &0,                              &0\\\\\n",
    "&A_{21}/L_{11}, &\\sqrt{A_{22} - L_{21}^2},       &0\\\\\n",
    "&A_{31}/L_{11}, &(A_{32} - L_{31}L_{21})/L_{22}, &\\sqrt{A_{33} - L_{31}^2 - L_{21}^2}\n",
    "\\end{bmatrix}$$\n",
    "\n",
    "Hence, we have, for the diagonal elements of $\\mathbf{L}$,\n",
    "$$L_{j, j} = \\pm \\sqrt{A_{j,j} - \\Sigma_{k=1}^{j-1}L_{j,k}^2}$$\n",
    "Which is always positive if $\\mathbf{A}$ is real and positive-definite, and the non-diagonal elements,\n",
    "$$L_{i,j} = \\frac{1}{L_{j,j}}\\left(A_{i,j} - \\Sigma_{k=1}^{j-1}L_{i,k}L_{j,k}\\right), i > j$$"
   ]
  },
  {
   "cell_type": "code",
   "execution_count": 12,
   "metadata": {},
   "outputs": [],
   "source": [
    "def cholesky_decomp(A):\n",
    "    \n",
    "    n = len(A)\n",
    "\n",
    "    # Initialize a zero matrix for L.\n",
    "    L = np.zeros(A.shape)\n",
    "\n",
    "    # Perform the Cholesky decomposition\n",
    "    for j in range(n):\n",
    "        for i in range(j, n):\n",
    "            symmetric_sum = sum(L[i][k] * L[j][k] for k in range(i))\n",
    "            \n",
    "            if (j == i): # Diagonal elements\n",
    "                L[j][j] = np.sqrt(A[j][j] - symmetric_sum)\n",
    "            else:\n",
    "                # Non-diagonal elements\n",
    "                L[i][j] = (1.0 / L[j][j] * (A[i][j] - symmetric_sum))\n",
    "    return L"
   ]
  },
  {
   "cell_type": "code",
   "execution_count": 14,
   "metadata": {},
   "outputs": [
    {
     "data": {
      "image/png": "[encoded data removed]",
      "text/plain": [
       "<Figure size 1152x576 with 2 Axes>"
      ]
     },
     "metadata": {
      "needs_background": "light"
     },
     "output_type": "display_data"
    }
   ],
   "source": [
    "L = cholesky_decomp(correlation_matrix.values)\n",
    "plt.figure(figsize = (16,8))\n",
    "sn.heatmap(L, annot=True, fmt='g', linewidths=.5, xticklabels=high_corr_stocks, yticklabels=high_corr_stocks)\n",
    "plt.show()"
   ]
  },
  {
   "cell_type": "code",
   "execution_count": 21,
   "metadata": {},
   "outputs": [
    {
     "name": "stdout",
     "output_type": "stream",
     "text": [
      "2020-08-07\n"
     ]
    }
   ],
   "source": [
    "current_date = datetime.now().strftime('%Y-%m-%d')\n",
    "print(current_date)\n",
    "# Update with current date correspondingly.\n",
    "spot_df = pd.DataFrame(yf.download('CVX MPC PSX XOM', start='2020-08-07', end='2020-08-08', progress=False)['Close'].iloc[-1])"
   ]
  },
  {
   "cell_type": "code",
   "execution_count": 22,
   "metadata": {},
   "outputs": [
    {
     "data": {
      "text/html": [
       "<div>\n",
       "<style scoped>\n",
       "    .dataframe tbody tr th:only-of-type {\n",
       "        vertical-align: middle;\n",
       "    }\n",
       "\n",
       "    .dataframe tbody tr th {\n",
       "        vertical-align: top;\n",
       "    }\n",
       "\n",
       "    .dataframe thead th {\n",
       "        text-align: right;\n",
       "    }\n",
       "</style>\n",
       "<table border=\"1\" class=\"dataframe\">\n",
       "  <thead>\n",
       "    <tr style=\"text-align: right;\">\n",
       "      <th></th>\n",
       "      <th>2020-08-06</th>\n",
       "    </tr>\n",
       "  </thead>\n",
       "  <tbody>\n",
       "    <tr>\n",
       "      <th>CVX</th>\n",
       "      <td>87.489998</td>\n",
       "    </tr>\n",
       "    <tr>\n",
       "      <th>MPC</th>\n",
       "      <td>35.730000</td>\n",
       "    </tr>\n",
       "    <tr>\n",
       "      <th>PSX</th>\n",
       "      <td>60.970001</td>\n",
       "    </tr>\n",
       "    <tr>\n",
       "      <th>XOM</th>\n",
       "      <td>43.639999</td>\n",
       "    </tr>\n",
       "  </tbody>\n",
       "</table>\n",
       "</div>"
      ],
      "text/plain": [
       "     2020-08-06\n",
       "CVX   87.489998\n",
       "MPC   35.730000\n",
       "PSX   60.970001\n",
       "XOM   43.639999"
      ]
     },
     "metadata": {},
     "output_type": "display_data"
    }
   ],
   "source": [
    "display(spot_df)"
   ]
  },
  {
   "cell_type": "markdown",
   "metadata": {},
   "source": [
    "## Perform Monte-Carlo Simulation"
   ]
  },
  {
   "cell_type": "markdown",
   "metadata": {},
   "source": [
    "### Simulation Parameters"
   ]
  },
  {
   "cell_type": "code",
   "execution_count": 24,
   "metadata": {},
   "outputs": [
    {
     "name": "stdout",
     "output_type": "stream",
     "text": [
      "The spot price of the basket options: 56.9575\n",
      "The strike price of the basket options: 56.9575\n",
      "[0.18439498 0.32249927 0.21149602 0.18380055]\n"
     ]
    }
   ],
   "source": [
    "spot = spot_df.mean().values[0]\n",
    "print(f'The spot price of the basket options: {spot:.4f}')\n",
    "strike = spot # in basket option, it is valid to assume that the strike price is equal to the spot price\n",
    "print(f'The strike price of the basket options: {strike:.4f}')\n",
    "alpha = 0.026\n",
    "r = 0.026\n",
    "T = 1\n",
    "num_simulations = 10**6\n",
    "spot_prices = np.array([spot_df.iloc[i].values[0] for i in range(len(high_corr_stocks))])\n",
    "sigmas = high_corr_stocks_df.pct_change(1).std().values * np.sqrt(NUM_TRADING_DAYS)\n",
    "print(sigmas)\n",
    "num_stocks = len(high_corr_stocks)"
   ]
  },
  {
   "cell_type": "markdown",
   "metadata": {},
   "source": [
    "### Generate correlated random numbers"
   ]
  },
  {
   "cell_type": "code",
   "execution_count": 28,
   "metadata": {},
   "outputs": [],
   "source": [
    "uncor_random_nums = np.random.randn(num_simulations, len(high_corr_stocks))\n",
    "cor_random_nums = np.dot(uncor_random_nums, L.T) # generate correlated random numbers using Cholesky Decomposition"
   ]
  },
  {
   "cell_type": "code",
   "execution_count": 31,
   "metadata": {
    "pycharm": {
     "name": "#%%\n"
    }
   },
   "outputs": [
    {
     "name": "stdout",
     "output_type": "stream",
     "text": [
      "--- 0.7822480201721191 seconds ---\n"
     ]
    }
   ],
   "source": [
    "st = np.zeros(num_simulations) # stock prices\n",
    "ct = np.zeros(num_simulations) # call prices\n",
    "pt = np.zeros(num_simulations) # put prices\n",
    "st_ind = np.zeros((num_simulations, num_stocks)) # individual stock prices\n",
    "\n",
    "@njit(parallel=True, fastmath=True)\n",
    "def simulation(num_simulations, st, ct, pt, st_ind):\n",
    "    for i in prange(num_simulations):\n",
    "\n",
    "        # Compute current spot stock price.\n",
    "        stock_prices = spot_prices * np.exp((0.026 - 0.5 * sigmas ** 2) * T + cor_random_nums[i] * sigmas * np.sqrt(T))\n",
    "        st_ind[i,:] = stock_prices\n",
    "        st_basket = np.dot(stock_prices, W)\n",
    "        st[i] = st_basket\n",
    "\n",
    "        # Compute call price.\n",
    "        ct[i] = max(st_basket - strike, 0)\n",
    "\n",
    "        # Compute put price.\n",
    "        pt[i] = max(strike - st_basket, 0)\n",
    "\n",
    "start_time = time.time()\n",
    "simulation(num_simulations, st, ct, pt, st_ind)\n",
    "print(\"--- %s seconds ---\" % (time.time() - start_time))"
   ]
  },
  {
   "cell_type": "code",
   "execution_count": 38,
   "metadata": {},
   "outputs": [
    {
     "data": {
      "text/plain": [
       "<matplotlib.collections.PathCollection at 0x7fea96dd77f0>"
      ]
     },
     "execution_count": 38,
     "metadata": {},
     "output_type": "execute_result"
    },
    {
     "data": {
      "image/png": "[encoded data removed]",
      "text/plain": [
       "<Figure size 432x288 with 1 Axes>"
      ]
     },
     "metadata": {
      "needs_background": "light"
     },
     "output_type": "display_data"
    }
   ],
   "source": [
    "# Generate scatter plot for Call Options.\n",
    "plt.scatter(st, ct, color='paleturquoise')"
   ]
  },
  {
   "cell_type": "code",
   "execution_count": 39,
   "metadata": {},
   "outputs": [
    {
     "data": {
      "text/plain": [
       "<matplotlib.collections.PathCollection at 0x7fea7c598390>"
      ]
     },
     "execution_count": 39,
     "metadata": {},
     "output_type": "execute_result"
    },
    {
     "data": {
      "image/png": "[encoded data removed]",
      "text/plain": [
       "<Figure size 432x288 with 1 Axes>"
      ]
     },
     "metadata": {
      "needs_background": "light"
     },
     "output_type": "display_data"
    }
   ],
   "source": [
    "# Generate scatter plot for Put Options.\n",
    "plt.scatter(st, pt, color='lightpink')"
   ]
  },
  {
   "cell_type": "markdown",
   "metadata": {},
   "source": [
    "### Call Option Simulation Statistics"
   ]
  },
  {
   "cell_type": "code",
   "execution_count": 40,
   "metadata": {},
   "outputs": [
    {
     "name": "stdout",
     "output_type": "stream",
     "text": [
      "Average call option pricing for high correlation stocks: 4.8736\n",
      "Call option C0 for high correlation stocks: 4.7486\n"
     ]
    }
   ],
   "source": [
    "call_highcorr_avg = np.mean(ct)\n",
    "print(f'Average call option pricing for high correlation stocks: {call_highcorr_avg:.4f}')\n",
    "call_highcorr_C0 = call_highcorr_avg * np.exp(- r * T)\n",
    "print(f'Call option C0 for high correlation stocks: {call_highcorr_C0:.4f}')"
   ]
  },
  {
   "cell_type": "markdown",
   "metadata": {},
   "source": [
    "## Perform Linear Regression on Call Option"
   ]
  },
  {
   "cell_type": "code",
   "execution_count": 41,
   "metadata": {},
   "outputs": [
    {
     "name": "stdout",
     "output_type": "stream",
     "text": [
      "Model Parameters:\n",
      "Intercept: -31.34125996429153\n",
      "Slope: [0.15258091 0.18288903 0.15054259 0.14276523]\n",
      "C0: 4.7559\n"
     ]
    }
   ],
   "source": [
    "# Create linear regression object.\n",
    "lr_model = linear_model.LinearRegression()\n",
    "\n",
    "x = np.array(st_ind)\n",
    "y = np.array(ct)\n",
    "\n",
    "# Training for call options.\n",
    "lr_model.fit(x, y)\n",
    "\n",
    "print('Model Parameters:')\n",
    "print('Intercept:', lr_model.intercept_)\n",
    "print('Slope:', lr_model.coef_)\n",
    "C0_linear_model = (lr_model.intercept_ * np.exp(- 0.026 * T) + np.dot(lr_model.coef_, spot_df.values))[0]\n",
    "print(f'C0: {C0_linear_model:.4f}')"
   ]
  },
  {
   "cell_type": "markdown",
   "metadata": {},
   "source": [
    "### Generate Trendline"
   ]
  },
  {
   "cell_type": "code",
   "execution_count": 42,
   "metadata": {},
   "outputs": [
    {
     "data": {
      "text/plain": [
       "[<matplotlib.lines.Line2D at 0x7fea7d7244a8>]"
      ]
     },
     "execution_count": 42,
     "metadata": {},
     "output_type": "execute_result"
    },
    {
     "data": {
      "image/png": "[encoded data removed]",
      "text/plain": [
       "<Figure size 432x288 with 1 Axes>"
      ]
     },
     "metadata": {
      "needs_background": "light"
     },
     "output_type": "display_data"
    }
   ],
   "source": [
    "# Training for call options.\n",
    "lr_model.fit(np.array(st).reshape((-1,1)), ct)\n",
    "\n",
    "# Make fitting predictions.\n",
    "call_pred = lr_model.predict(np.array(st).reshape((-1,1)))\n",
    "\n",
    "plt.scatter(st, ct,  color='orange')\n",
    "plt.plot(st, call_pred, linestyle=':')"
   ]
  },
  {
   "cell_type": "markdown",
   "metadata": {},
   "source": [
    "## Put Option Statistics"
   ]
  },
  {
   "cell_type": "code",
   "execution_count": 18,
   "metadata": {},
   "outputs": [
    {
     "name": "stdout",
     "output_type": "stream",
     "text": [
      "Average put option pricing for low correlation stocks: 69.8231\n",
      "Put option C0 for low correlation stocks: 68.0311\n"
     ]
    }
   ],
   "source": [
    "put_highcorr_avg = np.mean(pt)\n",
    "print(f'Average put option pricing for high correlation stocks: {put_lowcorr_avg:.4f}')\n",
    "put_lowcorr_C0 = put_lowcorr_avg * np.exp(- r * T)\n",
    "print(f'Put option C0 for low correlation stocks: {put_lowcorr_C0:.4f}')"
   ]
  },
  {
   "cell_type": "markdown",
   "metadata": {},
   "source": [
    "## Perform Linear Regression on Put Option"
   ]
  },
  {
   "cell_type": "code",
   "execution_count": 19,
   "metadata": {},
   "outputs": [
    {
     "name": "stdout",
     "output_type": "stream",
     "text": [
      "Model Parameters:\n",
      "Intercept: 245.95029057773343\n",
      "Slope: [-0.24484313 -0.15166014 -0.16758852 -0.06992405]\n",
      "P0: 68.0033\n"
     ]
    }
   ],
   "source": [
    "# Create linear regression object.\n",
    "lr_model = linear_model.LinearRegression()\n",
    "\n",
    "x = np.array(st_ind)\n",
    "y = np.array(pt)\n",
    "\n",
    "# Training for call options.\n",
    "lr_model.fit(x, y)\n",
    "\n",
    "# # Make fitting predictions.\n",
    "# put_pred = lr_model.predict(x)\n",
    "# plt.scatter(st, pt,  color='cornflowerblue')\n",
    "# plt.plot(st, put_pred, linestyle=':')\n",
    "\n",
    "print('Model Parameters:')\n",
    "print('Intercept:', lr_model.intercept_)\n",
    "print('Slope:', lr_model.coef_)\n",
    "P0_linear_model = (lr_model.intercept_ * np.exp(- 0.026 * T) + np.dot(lr_model.coef_, spot_df.values))[0]\n",
    "print(f'P0: {P0_linear_model:.4f}')"
   ]
  },
  {
   "cell_type": "markdown",
   "metadata": {},
   "source": [
    "### Generate Trendline"
   ]
  },
  {
   "cell_type": "code",
   "execution_count": 20,
   "metadata": {},
   "outputs": [
    {
     "data": {
      "text/plain": [
       "[<matplotlib.lines.Line2D at 0x7fdfab849940>]"
      ]
     },
     "execution_count": 20,
     "metadata": {},
     "output_type": "execute_result"
    },
    {
     "data": {
      "image/png": "[encoded data removed]",
      "text/plain": [
       "<Figure size 432x288 with 1 Axes>"
      ]
     },
     "metadata": {
      "needs_background": "light"
     },
     "output_type": "display_data"
    }
   ],
   "source": [
    "# Training for call options.\n",
    "lr_model.fit(np.array(st).reshape((-1,1)), pt)\n",
    "\n",
    "# Make fitting predictions.\n",
    "put_pred = lr_model.predict(np.array(st).reshape((-1,1)))\n",
    "\n",
    "plt.scatter(st, pt,  color='cornflowerblue')\n",
    "plt.plot(st, put_pred, linestyle=':')"
   ]
  },
  {
   "cell_type": "markdown",
   "metadata": {},
   "source": [
    "## Sensitivity Analysis\n",
    "\n",
    "### Call VS Strike"
   ]
  },
  {
   "cell_type": "code",
   "execution_count": 29,
   "metadata": {},
   "outputs": [],
   "source": [
    "call_strike = 300\n",
    "num_simulations = 10**6\n",
    "\n",
    "call_strikes = np.zeros(20)\n",
    "C0_call_strike = np.zeros(20)\n",
    "\n",
    "@njit(parallel=True, fastmath=True)\n",
    "def simulation_strike(num_simulations, st, ct, pt, st_ind, strike):\n",
    "        for i in prange(num_simulations):\n",
    "\n",
    "            # Compute current spot stock price.\n",
    "            stock_prices = spot_prices * np.exp((0.026 - 0.5 * sigmas ** 2) * T + cor_random_nums[i] * sigmas * np.sqrt(T))\n",
    "            st_ind[i,:] = stock_prices\n",
    "            st_basket = np.dot(stock_prices, W)\n",
    "            st[i] = st_basket\n",
    "\n",
    "            # Compute call price.\n",
    "            ct[i] = max(st_basket - strike, 0)\n",
    "            \n",
    "            # Compute put price.\n",
    "            pt[i] = max(strike - st_basket, 0)\n",
    "\n",
    "for i in range(20):\n",
    "    st = np.zeros(num_simulations) # stock prices\n",
    "    ct = np.zeros(num_simulations) # call prices\n",
    "    pt = np.zeros(num_simulations) # put prices\n",
    "    st_ind = np.zeros((num_simulations, num_stocks)) # individual stock prices\n",
    "    \n",
    "    simulation_strike(num_simulations, st, ct, pt, st_ind, call_strike)\n",
    "    \n",
    "    # Create linear regression object.\n",
    "    lr_model = linear_model.LinearRegression()\n",
    "\n",
    "    x = np.array(st_ind)\n",
    "    y = np.array(ct)\n",
    "\n",
    "    # Training for call options.\n",
    "    lr_model.fit(x, y)\n",
    "    C0_linear_model = (lr_model.intercept_ * np.exp(- 0.026 * T) + np.dot(lr_model.coef_, spot_df.values))[0]\n",
    "    \n",
    "    C0_call_strike[i] = C0_linear_model\n",
    "    call_strikes[i] = call_strike\n",
    "    \n",
    "    call_strike += 20"
   ]
  },
  {
   "cell_type": "code",
   "execution_count": 30,
   "metadata": {},
   "outputs": [
    {
     "data": {
      "text/plain": [
       "<matplotlib.collections.PathCollection at 0x7fdea7e0eb70>"
      ]
     },
     "execution_count": 30,
     "metadata": {},
     "output_type": "execute_result"
    },
    {
     "data": {
      "image/png": "[encoded data removed]",
      "text/plain": [
       "<Figure size 432x288 with 1 Axes>"
      ]
     },
     "metadata": {
      "needs_background": "light"
     },
     "output_type": "display_data"
    }
   ],
   "source": [
    "plt.scatter(call_strikes, C0_call_strike)"
   ]
  },
  {
   "cell_type": "code",
   "execution_count": 33,
   "metadata": {},
   "outputs": [],
   "source": [
    "call_vol = 0.0\n",
    "num_simulations = 10**7\n",
    "\n",
    "call_vols = np.zeros(20)\n",
    "C0_call_vol = np.zeros(20)\n",
    "\n",
    "@njit(parallel=True, fastmath=True)\n",
    "def simulation_vol(num_simulations, st, ct, pt, st_ind, vol):\n",
    "        for i in prange(num_simulations):\n",
    "\n",
    "            # Compute current spot stock price.\n",
    "            stock_prices = spot_prices * np.exp((0.026 - 0.5 * (sigmas + vol) ** 2) * T + cor_random_nums[i] * (sigmas + vol) * np.sqrt(T))\n",
    "            st_ind[i,:] = stock_prices\n",
    "            st_basket = np.dot(stock_prices, W)\n",
    "            st[i] = st_basket\n",
    "\n",
    "            # Compute call price.\n",
    "            ct[i] = max(st_basket - strike, 0)\n",
    "            \n",
    "            # Compute put price.\n",
    "            pt[i] = max(strike - st_basket, 0)\n",
    "            \n",
    "for i in range(20):\n",
    "    st = np.zeros(num_simulations) # stock prices\n",
    "    ct = np.zeros(num_simulations) # call prices\n",
    "    pt = np.zeros(num_simulations) # put prices\n",
    "    st_ind = np.zeros((num_simulations, num_stocks)) # individual stock prices\n",
    "    \n",
    "    simulation_vol(num_simulations, st, ct, pt, st_ind, call_vol)\n",
    "    \n",
    "    # Create linear regression object.\n",
    "    lr_model = linear_model.LinearRegression()\n",
    "\n",
    "    x = np.array(st_ind)\n",
    "    y = np.array(ct)\n",
    "\n",
    "    # Training for call options.\n",
    "    lr_model.fit(x, y)\n",
    "    C0_linear_model = (lr_model.intercept_ * np.exp(- 0.026 * T) + np.dot(lr_model.coef_, spot_df.values))[0]\n",
    "    \n",
    "    C0_call_vol[i] = C0_linear_model\n",
    "    call_vols[i] = call_vol\n",
    "    \n",
    "    call_vol += 0.2"
   ]
  },
  {
   "cell_type": "code",
   "execution_count": 34,
   "metadata": {},
   "outputs": [
    {
     "data": {
      "text/plain": [
       "<matplotlib.collections.PathCollection at 0x7fdec56014e0>"
      ]
     },
     "execution_count": 34,
     "metadata": {},
     "output_type": "execute_result"
    },
    {
     "data": {
      "image/png": "[encoded data removed]",
      "text/plain": [
       "<Figure size 432x288 with 1 Axes>"
      ]
     },
     "metadata": {
      "needs_background": "light"
     },
     "output_type": "display_data"
    }
   ],
   "source": [
    "plt.scatter(call_vols, C0_call_vol)"
   ]
  },
  {
   "cell_type": "code",
   "execution_count": null,
   "metadata": {},
   "outputs": [],
   "source": []
  }
 ],
 "metadata": {
  "kernelspec": {
   "display_name": "Python 3",
   "language": "python",
   "name": "python3"
  },
  "language_info": {
   "codemirror_mode": {
    "name": "ipython",
    "version": 3
   },
   "file_extension": ".py",
   "mimetype": "text/x-python",
   "name": "python",
   "nbconvert_exporter": "python",
   "pygments_lexer": "ipython3",
   "version": "3.6.10"
  }
 },
 "nbformat": 4,
 "nbformat_minor": 4
}
